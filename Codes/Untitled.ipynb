{
 "cells": [
  {
   "cell_type": "code",
   "execution_count": 9,
   "metadata": {
    "ExecuteTime": {
     "end_time": "2018-03-24T07:50:22.536119Z",
     "start_time": "2018-03-24T07:50:22.525423Z"
    }
   },
   "outputs": [],
   "source": [
    "import pygame\n",
    "import sys"
   ]
  },
  {
   "cell_type": "code",
   "execution_count": 10,
   "metadata": {
    "ExecuteTime": {
     "end_time": "2018-03-24T07:50:22.965749Z",
     "start_time": "2018-03-24T07:50:22.962867Z"
    }
   },
   "outputs": [],
   "source": [
    "from pygame.locals import *"
   ]
  },
  {
   "cell_type": "code",
   "execution_count": 11,
   "metadata": {
    "ExecuteTime": {
     "end_time": "2018-03-24T07:50:23.218894Z",
     "start_time": "2018-03-24T07:50:23.214061Z"
    }
   },
   "outputs": [
    {
     "data": {
      "text/plain": [
       "(6, 0)"
      ]
     },
     "execution_count": 11,
     "metadata": {},
     "output_type": "execute_result"
    }
   ],
   "source": [
    "pygame.init()"
   ]
  },
  {
   "cell_type": "code",
   "execution_count": 12,
   "metadata": {
    "ExecuteTime": {
     "end_time": "2018-03-24T07:50:23.704825Z",
     "start_time": "2018-03-24T07:50:23.691444Z"
    }
   },
   "outputs": [],
   "source": [
    "class GameObject:\n",
    "    def __init__(self, image, height, speed):\n",
    "        self.speed = speed\n",
    "        self.image = image\n",
    "        self.pos = image.get_rect().move(0, height)\n",
    "    def move(self):\n",
    "        self.pos = self.pos.move(0, self.speed)\n",
    "        if self.pos.right > 600:\n",
    "            self.pos.left = 0"
   ]
  },
  {
   "cell_type": "code",
   "execution_count": 17,
   "metadata": {
    "ExecuteTime": {
     "end_time": "2018-03-24T08:03:52.618296Z",
     "start_time": "2018-03-24T08:03:52.576235Z"
    }
   },
   "outputs": [
    {
     "ename": "SystemExit",
     "evalue": "",
     "output_type": "error",
     "traceback": [
      "An exception has occurred, use %tb to see the full traceback.\n",
      "\u001b[0;31mSystemExit\u001b[0m\n"
     ]
    },
    {
     "name": "stderr",
     "output_type": "stream",
     "text": [
      "/usr/local/lib/python3.5/dist-packages/IPython/core/interactiveshell.py:2918: UserWarning: To exit: use 'exit', 'quit', or Ctrl-D.\n",
      "  warn(\"To exit: use 'exit', 'quit', or Ctrl-D.\", stacklevel=1)\n"
     ]
    }
   ],
   "source": [
    "screen = pygame.display.set_mode((640, 480))\n",
    "player = pygame.image.load('../Data/player.jpeg').convert()\n",
    "background = pygame.image.load('../Data/background.jpeg').convert()\n",
    "screen.blit(background, (0, 0))\n",
    "objects = []\n",
    "for x in range(10):                    #create 10 objects</i>\n",
    "    o = GameObject(player, x*40, x)\n",
    "    objects.append(o)\n",
    "i = 0\n",
    "while(i<100):\n",
    "    for event in pygame.event.get():\n",
    "        if event.type in (QUIT, KEYDOWN):\n",
    "            sys.exit()\n",
    "    for o in objects:\n",
    "        screen.blit(background, o.pos, o.pos)\n",
    "    for o in objects:\n",
    "        o.move()\n",
    "        screen.blit(o.image, o.pos)\n",
    "    pygame.display.update()\n",
    "    pygame.time.delay(100)\n",
    "    i+=10"
   ]
  }
 ],
 "metadata": {
  "kernelspec": {
   "display_name": "Python 3",
   "language": "python",
   "name": "python3"
  },
  "language_info": {
   "codemirror_mode": {
    "name": "ipython",
    "version": 3
   },
   "file_extension": ".py",
   "mimetype": "text/x-python",
   "name": "python",
   "nbconvert_exporter": "python",
   "pygments_lexer": "ipython3",
   "version": "3.5.2"
  }
 },
 "nbformat": 4,
 "nbformat_minor": 2
}
