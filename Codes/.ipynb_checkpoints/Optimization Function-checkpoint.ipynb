{
 "cells": [
  {
   "cell_type": "markdown",
   "metadata": {},
   "source": [
    "## Import statements"
   ]
  },
  {
   "cell_type": "code",
   "execution_count": 1,
   "metadata": {
    "ExecuteTime": {
     "end_time": "2018-03-24T02:17:28.591216Z",
     "start_time": "2018-03-24T02:17:25.285511Z"
    }
   },
   "outputs": [],
   "source": [
    "import pandas as pd"
   ]
  },
  {
   "cell_type": "markdown",
   "metadata": {},
   "source": [
    "## Data Extraction"
   ]
  },
  {
   "cell_type": "code",
   "execution_count": 2,
   "metadata": {
    "ExecuteTime": {
     "end_time": "2018-03-24T02:17:28.807755Z",
     "start_time": "2018-03-24T02:17:28.594957Z"
    }
   },
   "outputs": [],
   "source": [
    "opt = pd.read_csv(\"../Data/Opt - Sheet1.csv\")\n",
    "road = pd.read_csv(\"../Data/Roads - Sheet1.csv\")"
   ]
  },
  {
   "cell_type": "code",
   "execution_count": 3,
   "metadata": {
    "ExecuteTime": {
     "end_time": "2018-03-24T02:17:28.814423Z",
     "start_time": "2018-03-24T02:17:28.810952Z"
    }
   },
   "outputs": [],
   "source": [
    "factor = [0.6,0.25,0.15,0.3,0.2,0.15,0.1,0.1,0.1,0.05]"
   ]
  },
  {
   "cell_type": "markdown",
   "metadata": {},
   "source": [
    "## Node, Edge and Graph classes"
   ]
  },
  {
   "cell_type": "code",
   "execution_count": 44,
   "metadata": {
    "ExecuteTime": {
     "end_time": "2018-03-24T03:40:37.684620Z",
     "start_time": "2018-03-24T03:40:37.316128Z"
    }
   },
   "outputs": [],
   "source": [
    "class Node:\n",
    "    def __init__(self,name,x,y,highway,pts,water,disaster,tourism):\n",
    "        self.name = name\n",
    "        self.x = x\n",
    "        self.y = y\n",
    "        self.highway = highway\n",
    "        self.pts = pts\n",
    "        self.water = water\n",
    "        self.disaster = disaster\n",
    "        self.tourism = tourism\n",
    "        \n",
    "    def displayNodeDetails(self):\n",
    "        print(\"\\nX: \",self.x,\"  Y: \",self.y,\"\\nName : \",self.name,\"\\nHighway : \",self.highway,\"\\nPoints : \",self.pts,\"\\nWaterBodies : \",self.water,\"\\nDisaster : \",self.disaster, \"\\nTourism : \",self.tourism)\n",
    "        \n",
    "class Edge:\n",
    "    def __init__(self,v1,v2, length, width,terrain, traffic, disaster):\n",
    "        self.cost=0\n",
    "        self.benefit=0\n",
    "        self.weight=0\n",
    "        self.v1 = v1\n",
    "        self.v2 = v2\n",
    "        self.length = length\n",
    "        self.width = width\n",
    "        self.terrain = terrain\n",
    "        self.traffic = traffic\n",
    "        self.disaster = disaster\n",
    "        \n",
    "    def displayEdgeDetails(self):\n",
    "        print(\"\\nv1 : \",self.v1.name,\"\\nv2 : \",self.v2.name,\"\\nweight : \",self.weight,\"\\nlength : \",self.length,\"\\nwidth : \",self.width,\"\\nterrain : \",self.terrain,\"\\ntraffic : \",self.traffic,\"\\ndisaster : \",self.disaster)\n",
    "\n",
    "class Graph:\n",
    "    def __init__(self):\n",
    "        self.visited = []\n",
    "        self.selected = []\n",
    "        self.nodes = []\n",
    "        self.edges = []\n",
    "        self.vis = []\n",
    "        \n",
    "    def addNode(self,factors):\n",
    "        temp = Node(factors[0],factors[1],factors[2],factors[3],factors[4],factors[5],factors[6],factors[7])\n",
    "        self.nodes.append(temp)\n",
    "    \n",
    "    def addEdge(self,factors):\n",
    "        for node in self.nodes:\n",
    "            if node.name==factors[0]:\n",
    "                v1=node\n",
    "            if node.name==factors[1]:\n",
    "                v2=node\n",
    "        temp = Edge(v1,v2,factors[2],factors[3],factors[4],factors[5],factors[6])\n",
    "        self.edges.append(temp)\n",
    "    \n",
    "    def listNodes(self):\n",
    "        for node in self.nodes:\n",
    "            node.displayNodeDetails()\n",
    "    \n",
    "    def listEdges(self,default=0):\n",
    "        if(default==0):\n",
    "            for edge in self.edges:\n",
    "                edge.displayEdgeDetails()\n",
    "        else:\n",
    "            for edge in self.selected:\n",
    "                edge.displayEdgeDetails()\n",
    "    \n",
    "    def optimize_cost(self):\n",
    "        global factor\n",
    "        for edge in self.edges:\n",
    "            edge.cost = (factor[0]*edge.length) + (factor[1]*(edge.terrain)*(edge.length)) + (factor[2]*(edge.disaster)*(edge.length))\n",
    "            edge.benefit =  (factor[3]*(edge.v1.highway+edge.v2.highway))+(factor[4]*(edge.v1.pts+edge.v2.pts)/2)+ (factor[5]*edge.traffic) + (factor[6]*(edge.v1.water+edge.v2.water))+ (factor[7]*(edge.v1.disaster+edge.v2.disaster)) + (factor[8] * edge.width) + (factor[9]*(edge.v1.tourism+edge.v2.tourism))    \n",
    "            edge.weight = edge.cost/edge.benefit*100\n",
    "            #print(\"\\n\\n\",edge.v1.name,\"-\",edge.v2.name,\":\\nCost: \",edge.cost,\"\\nBenefit: \",edge.benefit,\"\\nWeight: \",edge.weight)\n",
    "    \n",
    "    def get_weight(self,x):\n",
    "        return x.weight\n",
    "    \n",
    "    def sort_edges(self):\n",
    "        self.edges = sorted(self.edges, key=self.get_weight)\n",
    "    \n",
    "    def findNeigh(self,i):\n",
    "        neigh = []\n",
    "        name = self.nodes[i].name\n",
    "        for e in self.selected:\n",
    "            if(e.v1.name == name):\n",
    "                neigh.append(self.nodes.index(e.v2))\n",
    "            elif(e.v2.name == name):\n",
    "                neigh.append(self.nodes.index(e.v1))\n",
    "        return neigh\n",
    "    \n",
    "    def isUtilCycle(self,cur_node,vis,parent):\n",
    "        vis[cur_node] = True\n",
    "        for i in self.findNeigh(cur_node):\n",
    "            if  vis[i]==False : \n",
    "                if(self.isUtilCycle(i,vis,cur_node)):\n",
    "                    return True\n",
    "            elif  parent!=i:\n",
    "                return True\n",
    "        return False\n",
    "    \n",
    "    def isCyclic(self):\n",
    "        vis = [False]*(len(self.nodes))\n",
    "        self.sort_edges()\n",
    "        for i in range(len(self.nodes)):\n",
    "            if(vis[i]==False):\n",
    "                if(self.isUtilCycle(i,vis,-1)):\n",
    "                    return True\n",
    "        return False\n",
    "    \n",
    "    def kruskal(self):\n",
    "        self.sort_edges()\n",
    "        for edge in self.edges:\n",
    "            self.selected.append(edge)\n",
    "            if(self.isCyclic() == True):\n",
    "                del self.selected[-1]"
   ]
  },
  {
   "cell_type": "markdown",
   "metadata": {},
   "source": [
    "## Create graph"
   ]
  },
  {
   "cell_type": "code",
   "execution_count": 45,
   "metadata": {
    "ExecuteTime": {
     "end_time": "2018-03-24T03:40:38.601154Z",
     "start_time": "2018-03-24T03:40:38.597155Z"
    }
   },
   "outputs": [],
   "source": [
    "g=Graph()"
   ]
  },
  {
   "cell_type": "code",
   "execution_count": 46,
   "metadata": {
    "ExecuteTime": {
     "end_time": "2018-03-24T03:40:39.095999Z",
     "start_time": "2018-03-24T03:40:39.090397Z"
    }
   },
   "outputs": [],
   "source": [
    "# adding nodes and edges\n",
    "for row in opt.values[0:4]:\n",
    "    g.addNode(row)\n",
    "    \n",
    "for row in road.values[0:5]:\n",
    "    g.addEdge(row)"
   ]
  },
  {
   "cell_type": "code",
   "execution_count": 47,
   "metadata": {
    "ExecuteTime": {
     "end_time": "2018-03-24T03:40:40.002524Z",
     "start_time": "2018-03-24T03:40:39.999623Z"
    }
   },
   "outputs": [],
   "source": [
    "g.optimize_cost()"
   ]
  },
  {
   "cell_type": "code",
   "execution_count": 48,
   "metadata": {
    "ExecuteTime": {
     "end_time": "2018-03-24T03:41:02.564826Z",
     "start_time": "2018-03-24T03:41:02.559760Z"
    }
   },
   "outputs": [],
   "source": [
    "g.kruskal()"
   ]
  },
  {
   "cell_type": "code",
   "execution_count": 50,
   "metadata": {
    "ExecuteTime": {
     "end_time": "2018-03-24T03:41:22.497264Z",
     "start_time": "2018-03-24T03:41:22.333924Z"
    }
   },
   "outputs": [
    {
     "data": {
      "image/png": "[encoded data removed]",
      "text/plain": [
       "<matplotlib.figure.Figure at 0x7fe66b4578d0>"
      ]
     },
     "metadata": {},
     "output_type": "display_data"
    }
   ],
   "source": [
    "%matplotlib inline\n",
    "\n",
    "import matplotlib\n",
    "import matplotlib.pyplot as plt\n",
    " \n",
    "for edge in g.selected:\n",
    "    x=[edge.v1.x,edge.v2.x]\n",
    "    y=[edge.v1.y,edge.v2.y]\n",
    "    name=edge.v1.name+\"-\"+edge.v2.name\n",
    "    plt.plot(x,y,label=name)\n",
    "\n",
    "# naming x axis\n",
    "plt.xlabel('x - axis')\n",
    "# naming the y axis\n",
    "plt.ylabel('y - axis')\n",
    "# giving a title to my graph\n",
    "plt.title('Two lines on same graph!')\n",
    " \n",
    "# show a legend on the plot\n",
    "plt.legend()\n",
    " \n",
    "# function to show the plot\n",
    "plt.show()\n"
   ]
  },
  {
   "cell_type": "code",
   "execution_count": null,
   "metadata": {
    "collapsed": true
   },
   "outputs": [],
   "source": []
  }
 ],
 "metadata": {
  "kernelspec": {
   "display_name": "Python 3",
   "language": "python",
   "name": "python3"
  },
  "language_info": {
   "codemirror_mode": {
    "name": "ipython",
    "version": 3
   },
   "file_extension": ".py",
   "mimetype": "text/x-python",
   "name": "python",
   "nbconvert_exporter": "python",
   "pygments_lexer": "ipython3",
   "version": "3.5.2"
  }
 },
 "nbformat": 4,
 "nbformat_minor": 2
}
