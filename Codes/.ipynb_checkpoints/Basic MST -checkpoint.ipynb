{
 "cells": [
  {
   "cell_type": "code",
   "execution_count": 5,
   "metadata": {
    "ExecuteTime": {
     "end_time": "2018-03-22T03:28:26.126289Z",
     "start_time": "2018-03-22T03:28:26.073711Z"
    }
   },
   "outputs": [],
   "source": [
    "class Node:\n",
    "    def __init__(self,x,y,name):\n",
    "        self.x = x\n",
    "        self.y = y\n",
    "        self.name = name\n",
    "    def displayNodeDetails(self):\n",
    "        print(\"\\nName : \",self.name,\"\\nX : \",self.x,\"\\nY : \",self.y)\n",
    "\n",
    "class Edge:\n",
    "    def __init__(self,name1,name2,cost):\n",
    "        self.node1 = name1\n",
    "        self.node2 = name2\n",
    "        self.cost = cost\n",
    "    def displayEdgeDetails(self):\n",
    "        print(\"\\nNode1 : \",self.node1,\"\\nNode2 : \",self.node2,\"\\nCost : \",self.cost)\n",
    "\n",
    "class Graph:\n",
    "    def __init__(self):\n",
    "        self.visited = []\n",
    "        self.selected = []\n",
    "        self.nodes = []\n",
    "        self.edges = []\n",
    "    def addNode(self,x,y,name):\n",
    "        temp = Node(x,y,name)\n",
    "        self.nodes.append(temp)\n",
    "    def addEdge(self,name1,name2,cost):\n",
    "        temp = Edge(name1,name2,cost)\n",
    "        self.edges.append(temp)\n",
    "    def getcost(self,edge):\n",
    "        return edge.cost"
   ]
  },
  {
   "cell_type": "code",
   "execution_count": 6,
   "metadata": {
    "ExecuteTime": {
     "end_time": "2018-03-22T03:28:26.465525Z",
     "start_time": "2018-03-22T03:28:26.462768Z"
    }
   },
   "outputs": [],
   "source": [
    "g = Graph()"
   ]
  },
  {
   "cell_type": "code",
   "execution_count": 7,
   "metadata": {
    "ExecuteTime": {
     "end_time": "2018-03-22T03:28:26.906878Z",
     "start_time": "2018-03-22T03:28:26.885921Z"
    }
   },
   "outputs": [],
   "source": [
    "g.addNode(1,2,\"p1\")\n",
    "g.addNode(3,4,\"p2\")\n",
    "g.addNode(6,2,\"p3\")\n",
    "g.addNode(1,2,\"p4\")\n",
    "g.addNode(1,2,\"p5\")\n",
    "g.addNode(1,2,\"p6\")\n",
    "g.addEdge(\"p1\",\"p2\",2)\n",
    "g.addEdge(\"p1\",\"p3\",3)\n",
    "g.addEdge(\"p1\",\"p4\",6)\n",
    "g.addEdge(\"p2\",\"p3\",5)\n",
    "g.addEdge(\"p2\",\"p4\",4)\n",
    "g.addEdge(\"p3\",\"p6\",10)\n",
    "g.addEdge(\"p3\",\"p4\",1)\n",
    "g.addEdge(\"p4\",\"p5\",2)\n",
    "g.addEdge(\"p5\",\"p6\",3)\n",
    "g.addEdge(\"p2\",\"p6\",7)"
   ]
  },
  {
   "cell_type": "code",
   "execution_count": 8,
   "metadata": {
    "ExecuteTime": {
     "end_time": "2018-03-22T03:28:28.973366Z",
     "start_time": "2018-03-22T03:28:28.967560Z"
    }
   },
   "outputs": [
    {
     "name": "stdout",
     "output_type": "stream",
     "text": [
      "\n",
      "Node1 :  p1 \n",
      "Node2 :  p2 \n",
      "Cost :  2\n",
      "\n",
      "Node1 :  p1 \n",
      "Node2 :  p3 \n",
      "Cost :  3\n",
      "\n",
      "Node1 :  p1 \n",
      "Node2 :  p4 \n",
      "Cost :  6\n",
      "\n",
      "Node1 :  p2 \n",
      "Node2 :  p3 \n",
      "Cost :  5\n",
      "\n",
      "Node1 :  p2 \n",
      "Node2 :  p4 \n",
      "Cost :  4\n",
      "\n",
      "Node1 :  p3 \n",
      "Node2 :  p6 \n",
      "Cost :  10\n",
      "\n",
      "Node1 :  p3 \n",
      "Node2 :  p4 \n",
      "Cost :  1\n",
      "\n",
      "Node1 :  p4 \n",
      "Node2 :  p5 \n",
      "Cost :  2\n",
      "\n",
      "Node1 :  p5 \n",
      "Node2 :  p6 \n",
      "Cost :  3\n",
      "\n",
      "Node1 :  p2 \n",
      "Node2 :  p6 \n",
      "Cost :  7\n"
     ]
    }
   ],
   "source": [
    "for i in g.edges:\n",
    "    i.displayEdgeDetails()"
   ]
  }
 ],
 "metadata": {
  "kernelspec": {
   "display_name": "Python 3",
   "language": "python",
   "name": "python3"
  }
 },
 "nbformat": 4,
 "nbformat_minor": 2
}
