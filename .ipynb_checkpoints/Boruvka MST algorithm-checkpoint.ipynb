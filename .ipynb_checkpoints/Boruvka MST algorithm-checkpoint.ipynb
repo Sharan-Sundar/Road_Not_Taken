{
 "cells": [
  {
   "cell_type": "markdown",
   "metadata": {},
   "source": [
    "# Class Declarations for Node, Edge and Graph"
   ]
  },
  {
   "cell_type": "code",
   "execution_count": 1,
   "metadata": {
    "ExecuteTime": {
     "end_time": "2018-03-13T15:00:14.437732Z",
     "start_time": "2018-03-13T15:00:14.432425Z"
    }
   },
   "outputs": [],
   "source": [
    "import random\n",
    "def assignNewColor():\n",
    "    return random.randint(1,1000)"
   ]
  },
  {
   "cell_type": "code",
   "execution_count": 2,
   "metadata": {
    "ExecuteTime": {
     "end_time": "2018-03-13T15:00:15.354604Z",
     "start_time": "2018-03-13T15:00:15.044584Z"
    }
   },
   "outputs": [],
   "source": [
    "class Node:\n",
    "    \n",
    "    def __init__(self,x,y,name):\n",
    "        self.x = x\n",
    "        self.y = y\n",
    "        self.name = name\n",
    "        self.color = -1\n",
    "    \n",
    "    def displayNodeDetails(self):\n",
    "        print(\" Name : \",self.name,\"\\n\",\"X : \",self.x,\"\\n\",\"Y : \",self.y,\"\\n\",\"Color : \",self.color,\"\\n\")\n",
    "    \n",
    "class Edge:\n",
    "    \n",
    "    def __init__(self,n1,n2,cost,impo):\n",
    "        self.node1 = n1\n",
    "        self.node2 = n2\n",
    "        self.cost = cost\n",
    "        self.importance = impo\n",
    "        \n",
    "    def displayEdgeDetails(self):\n",
    "        print(\" Point 1 : \",self.node1,\"\\n\",\"Point 2 : \",self.node2,\"\\n\",\n",
    "              \"Cost    : \",self.cost,\"\\n\",\"Impo    : \",self.importance,\"\\n\")\n",
    "        \n",
    "class Graph:\n",
    "    \n",
    "    curParent = None\n",
    "    \n",
    "    def __init__(self):\n",
    "        self.nodes = []\n",
    "        self.edges = []\n",
    "        self.selected = []\n",
    "        self.subs = []\n",
    "        \n",
    "    def addNode(self,x,y,name):\n",
    "        temp = Node(x,y,name)\n",
    "        self.nodes.append(temp)\n",
    "    \n",
    "    def addEdge(self,n1,n2,cost,impo):\n",
    "        temp = Edge(n1,n2,cost,impo)\n",
    "        self.edges.append(temp)\n",
    "        \n",
    "    def getCost(self, edge):\n",
    "        return edge.cost\n",
    "    \n",
    "    def getNodeIndex(self,name):\n",
    "        for i in self.nodes:\n",
    "            if(i.name == name): return self.nodes.index(i)\n",
    "            \n",
    "    def nodeEdges(self,nodeName):\n",
    "        return [e for e in self.edges if(e.node1 == nodeName or e.node2 == nodeName)]\n",
    "    \n",
    "    def findNeighbours(self,nodeName):\n",
    "        neds = []\n",
    "        for e in self.selected:\n",
    "            if(e.node1 == nodeName): neds.append(self.nodes[self.getNodeIndex(e.node2)])\n",
    "            elif(e.node2 == nodeName): neds.append(self.nodes[self.getNodeIndex(e.node1)])\n",
    "        return neds\n",
    "    \n",
    "    def formSubGraphs(self):\n",
    "        for node in self.nodes:\n",
    "            if(node.color == -1): \n",
    "                node.color = assignNewColor()\n",
    "            neigh = self.findNeighbours(node.name)\n",
    "            for n in neigh:\n",
    "                if(n.color != node.color):\n",
    "                    n.color = node.color\n",
    "    \n",
    "    def spreadColors(self, node):\n",
    "        neigh = self.findNeighbours(node.name)\n",
    "        for n in neigh:\n",
    "            if(n.color != node.color):\n",
    "                n.color = node.color\n",
    "                self.spreadColors(n)\n",
    "    \n",
    "    def findNoOfSubGraphs(self):\n",
    "        cnt = 0\n",
    "        seen = []\n",
    "        for node in self.nodes:\n",
    "            if(node.color not in seen):\n",
    "                seen.append(node.color)\n",
    "                cnt+=1\n",
    "        return cnt,seen\n",
    "        \n",
    "    def selectMinNodeEdges(self):\n",
    "        for node in self.nodes:\n",
    "            neds = self.nodeEdges(node.name)\n",
    "            choosen = sorted(neds,key=self.getCost)[0]\n",
    "            if(choosen not in self.selected):\n",
    "                self.selected.append(choosen)\n",
    "                \n",
    "    def finalMSTforming(self):\n",
    "        self.subs = []\n",
    "        no_of_sub, colors = self.findNoOfSubGraphs()\n",
    "        if(no_of_sub > 1):\n",
    "            for i in range(no_of_sub):\n",
    "                nsub = [n.name for n in g.nodes if n.color == colors[i]]\n",
    "                ls = [e for e in self.edges if(e.node1 in nsub \n",
    "                                               and e.node2 not in nsub \n",
    "                                               and e not in self.subs \n",
    "                                               and e not in self.selected)]\n",
    "                self.subs+=ls\n",
    "            try:\n",
    "                smallest = sorted(self.subs, key=self.getCost)[0]\n",
    "                self.selected.append(smallest)\n",
    "                self.spreadColors(self.nodes[self.getNodeIndex(smallest.node1)])\n",
    "                self.finalMSTforming()\n",
    "            except:\n",
    "                pass"
   ]
  },
  {
   "cell_type": "markdown",
   "metadata": {},
   "source": [
    "# Graph Creation"
   ]
  },
  {
   "cell_type": "code",
   "execution_count": 3,
   "metadata": {
    "ExecuteTime": {
     "end_time": "2018-03-13T15:00:16.816761Z",
     "start_time": "2018-03-13T15:00:16.814038Z"
    }
   },
   "outputs": [],
   "source": [
    "g = Graph()"
   ]
  },
  {
   "cell_type": "code",
   "execution_count": 4,
   "metadata": {
    "ExecuteTime": {
     "end_time": "2018-03-13T15:00:29.203975Z",
     "start_time": "2018-03-13T15:00:29.181460Z"
    }
   },
   "outputs": [],
   "source": [
    "g.addNode(1,2,\"p1\")\n",
    "g.addNode(3,4,\"p2\")\n",
    "g.addNode(6,2,\"p3\")\n",
    "g.addNode(1,2,\"p4\")\n",
    "g.addNode(1,2,\"p5\")\n",
    "g.addNode(1,2,\"p6\")\n",
    "g.addEdge(\"p1\",\"p2\",2,1)\n",
    "g.addEdge(\"p1\",\"p3\",3,1)\n",
    "g.addEdge(\"p1\",\"p4\",4,1)\n",
    "g.addEdge(\"p2\",\"p3\",5,1)\n",
    "g.addEdge(\"p2\",\"p4\",4,1)\n",
    "g.addEdge(\"p3\",\"p6\",10,1)\n",
    "g.addEdge(\"p3\",\"p4\",1,1)\n",
    "g.addEdge(\"p4\",\"p5\",2,1)\n",
    "#g.addEdge(\"p5\",\"p6\",3,1)\n",
    "g.addEdge(\"p2\",\"p6\",7,1)"
   ]
  },
  {
   "cell_type": "markdown",
   "metadata": {},
   "source": [
    "## Boruvka implementation"
   ]
  },
  {
   "cell_type": "code",
   "execution_count": 5,
   "metadata": {
    "ExecuteTime": {
     "end_time": "2018-03-13T15:00:29.997958Z",
     "start_time": "2018-03-13T15:00:29.995550Z"
    }
   },
   "outputs": [],
   "source": [
    "g.selectMinNodeEdges()"
   ]
  },
  {
   "cell_type": "code",
   "execution_count": 6,
   "metadata": {
    "ExecuteTime": {
     "end_time": "2018-03-13T15:00:30.366134Z",
     "start_time": "2018-03-13T15:00:30.363387Z"
    }
   },
   "outputs": [],
   "source": [
    "g.formSubGraphs()"
   ]
  },
  {
   "cell_type": "code",
   "execution_count": 7,
   "metadata": {
    "ExecuteTime": {
     "end_time": "2018-03-13T15:00:30.878120Z",
     "start_time": "2018-03-13T15:00:30.874654Z"
    }
   },
   "outputs": [],
   "source": [
    "g.finalMSTforming()"
   ]
  },
  {
   "cell_type": "code",
   "execution_count": 8,
   "metadata": {
    "ExecuteTime": {
     "end_time": "2018-03-13T15:00:32.458917Z",
     "start_time": "2018-03-13T15:00:32.451426Z"
    }
   },
   "outputs": [
    {
     "name": "stdout",
     "output_type": "stream",
     "text": [
      " Point 1 :  p1 \n",
      " Point 2 :  p2 \n",
      " Cost    :  2 \n",
      " Impo    :  1 \n",
      "\n",
      " Point 1 :  p3 \n",
      " Point 2 :  p4 \n",
      " Cost    :  1 \n",
      " Impo    :  1 \n",
      "\n",
      " Point 1 :  p4 \n",
      " Point 2 :  p5 \n",
      " Cost    :  2 \n",
      " Impo    :  1 \n",
      "\n",
      " Point 1 :  p2 \n",
      " Point 2 :  p6 \n",
      " Cost    :  7 \n",
      " Impo    :  1 \n",
      "\n",
      " Point 1 :  p1 \n",
      " Point 2 :  p3 \n",
      " Cost    :  3 \n",
      " Impo    :  1 \n",
      "\n"
     ]
    }
   ],
   "source": [
    "for t in g.selected:\n",
    "    t.displayEdgeDetails()"
   ]
  },
  {
   "cell_type": "code",
   "execution_count": null,
   "metadata": {},
   "outputs": [],
   "source": []
  }
 ],
 "metadata": {
  "kernelspec": {
   "display_name": "Python 3",
   "language": "python",
   "name": "python3"
  },
  "language_info": {
   "codemirror_mode": {
    "name": "ipython",
    "version": 3
   },
   "file_extension": ".py",
   "mimetype": "text/x-python",
   "name": "python",
   "nbconvert_exporter": "python",
   "pygments_lexer": "ipython3",
   "version": "3.5.2"
  }
 },
 "nbformat": 4,
 "nbformat_minor": 2
}
